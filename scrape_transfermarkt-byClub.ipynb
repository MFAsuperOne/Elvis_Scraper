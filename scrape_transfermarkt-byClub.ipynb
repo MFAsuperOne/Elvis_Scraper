{
 "cells": [
  {
   "cell_type": "code",
   "execution_count": 1,
   "metadata": {},
   "outputs": [],
   "source": [
    "import pandas as pd\n",
    "from selenium import webdriver\n",
    "from bs4 import BeautifulSoup\n",
    "from selenium.webdriver.common.by import By\n",
    "from selenium.webdriver.chrome.options import Options\n",
    "from sqlalchemy import create_engine"
   ]
  },
  {
   "cell_type": "code",
   "execution_count": 2,
   "metadata": {},
   "outputs": [],
   "source": [
    "username = 'admin'\n",
    "password = 'nX0d4tuvxL3w5hMjJRfz'\n",
    "host = 'ai-engine.cluster-cla9jbugaywl.eu-west-2.rds.amazonaws.com'\n",
    "database_name = 'superleague_clubs'\n",
    "\n",
    "connection_url = f'mysql+pymysql://{username}:{password}@{host}/{database_name}'\n",
    "\n",
    "def insert_into_db(df, table_name) : \n",
    "\n",
    "    engine = create_engine(connection_url)\n",
    "    df.to_sql(table_name, con=engine, if_exists='replace', index=False) \n",
    "    return 'Data inserted successfully'"
   ]
  },
  {
   "cell_type": "code",
   "execution_count": 3,
   "metadata": {},
   "outputs": [],
   "source": [
    "club = 'inter-mailand'\n",
    "club_id = '46'\n",
    "url = 'https://www.transfermarkt.com/inter-mailand/startseite/verein/46?saison_id='"
   ]
  },
  {
   "cell_type": "code",
   "execution_count": 4,
   "metadata": {},
   "outputs": [
    {
     "name": "stdout",
     "output_type": "stream",
     "text": [
      "https://www.transfermarkt.com/inter-mailand/startseite/verein/46?saison_id=1992\n",
      "https://www.transfermarkt.com/inter-mailand/startseite/verein/46?saison_id=1993\n",
      "https://www.transfermarkt.com/inter-mailand/startseite/verein/46?saison_id=1994\n",
      "https://www.transfermarkt.com/inter-mailand/startseite/verein/46?saison_id=1995\n",
      "https://www.transfermarkt.com/inter-mailand/startseite/verein/46?saison_id=1996\n",
      "https://www.transfermarkt.com/inter-mailand/startseite/verein/46?saison_id=1997\n",
      "https://www.transfermarkt.com/inter-mailand/startseite/verein/46?saison_id=1998\n",
      "https://www.transfermarkt.com/inter-mailand/startseite/verein/46?saison_id=1999\n",
      "https://www.transfermarkt.com/inter-mailand/startseite/verein/46?saison_id=2000\n",
      "https://www.transfermarkt.com/inter-mailand/startseite/verein/46?saison_id=2001\n",
      "https://www.transfermarkt.com/inter-mailand/startseite/verein/46?saison_id=2002\n",
      "https://www.transfermarkt.com/inter-mailand/startseite/verein/46?saison_id=2003\n",
      "https://www.transfermarkt.com/inter-mailand/startseite/verein/46?saison_id=2004\n",
      "https://www.transfermarkt.com/inter-mailand/startseite/verein/46?saison_id=2005\n",
      "https://www.transfermarkt.com/inter-mailand/startseite/verein/46?saison_id=2006\n",
      "https://www.transfermarkt.com/inter-mailand/startseite/verein/46?saison_id=2007\n",
      "https://www.transfermarkt.com/inter-mailand/startseite/verein/46?saison_id=2008\n",
      "https://www.transfermarkt.com/inter-mailand/startseite/verein/46?saison_id=2009\n",
      "https://www.transfermarkt.com/inter-mailand/startseite/verein/46?saison_id=2010\n",
      "https://www.transfermarkt.com/inter-mailand/startseite/verein/46?saison_id=2011\n",
      "https://www.transfermarkt.com/inter-mailand/startseite/verein/46?saison_id=2012\n",
      "https://www.transfermarkt.com/inter-mailand/startseite/verein/46?saison_id=2013\n",
      "https://www.transfermarkt.com/inter-mailand/startseite/verein/46?saison_id=2014\n",
      "https://www.transfermarkt.com/inter-mailand/startseite/verein/46?saison_id=2015\n",
      "https://www.transfermarkt.com/inter-mailand/startseite/verein/46?saison_id=2016\n",
      "https://www.transfermarkt.com/inter-mailand/startseite/verein/46?saison_id=2017\n",
      "https://www.transfermarkt.com/inter-mailand/startseite/verein/46?saison_id=2018\n",
      "https://www.transfermarkt.com/inter-mailand/startseite/verein/46?saison_id=2019\n",
      "https://www.transfermarkt.com/inter-mailand/startseite/verein/46?saison_id=2020\n",
      "https://www.transfermarkt.com/inter-mailand/startseite/verein/46?saison_id=2021\n",
      "https://www.transfermarkt.com/inter-mailand/startseite/verein/46?saison_id=2022\n",
      "https://www.transfermarkt.com/inter-mailand/startseite/verein/46?saison_id=2023\n"
     ]
    }
   ],
   "source": [
    "data = []\n",
    "headers = ['shirt_number', 'playername', 'player_url','mainposition', 'position', 'birthdate', 'country', 'club_name', 'market_value', 'season']\n",
    "\n",
    "startyear = 1992\n",
    "endyear = 2023\n",
    "for year in range(startyear, endyear+1) : \n",
    "\n",
    "    cluburl = url + str(year)\n",
    "    print(cluburl)\n",
    "\n",
    "    chrome_options = Options()\n",
    "    chrome_options.add_argument(\"--headless\")\n",
    "    chrome_options.add_argument(\"--disable-gpu\") \n",
    "\n",
    "    driver = webdriver.Chrome() \n",
    "    driver.get(cluburl)\n",
    "\n",
    "    driver.implicitly_wait(5) \n",
    "    page_source = driver.page_source\n",
    "    driver.quit()\n",
    "\n",
    "    soup = BeautifulSoup(page_source, \"lxml\")\n",
    "\n",
    "    table = soup.select('.responsive-table > .grid-view > .items > tbody')[0]\n",
    "\n",
    "    for row in table.find_all(True, {\"class\": [\"odd\", \"even\"]}):\n",
    "\n",
    "        try : \n",
    "            rowdata = []\n",
    "\n",
    "            mainposition = row.find('td')['title']\n",
    "            shirt_number = row.find('div', class_='tm-shirt-number').text.strip()\n",
    "            player_name = row.find('td', class_='posrela').find_all('tr')[0].td.img['title']\n",
    "            player_url = row.find('td', class_='posrela').find('tr', class_='data-link')['data-link']\n",
    "            position_element = row.find('td', class_='posrela')\n",
    "            position = position_element.find_all('tr')[1].text if position_element else '-'\n",
    "            birthdate_element = row.find_all('td', class_='zentriert')[1]\n",
    "            birthdate = birthdate_element.text.strip().split('(')[0].strip() if birthdate_element else '-'\n",
    "            country_element = row.find_all('td', class_='zentriert')[2].img\n",
    "            country = country_element['title'] if country_element else '-'\n",
    "            club_element = row.find_all('td', class_='zentriert')[3].a\n",
    "            club_name = club_element['title'] if club_element else '-'\n",
    "            market_value_element = row.find('td', class_='rechts hauptlink').a\n",
    "            market_value = market_value_element.text.strip() if market_value_element else '-'\n",
    "\n",
    "            rowdata.append(shirt_number)\n",
    "            rowdata.append(player_name)\n",
    "            rowdata.append(player_url)\n",
    "            rowdata.append(mainposition)\n",
    "            rowdata.append(position)\n",
    "            rowdata.append(birthdate)\n",
    "            rowdata.append(country)\n",
    "            rowdata.append(club_name)\n",
    "            rowdata.append(market_value)\n",
    "            rowdata.append(str(year)+'-'+str(year+1))\n",
    "\n",
    "        except : \n",
    "            continue\n",
    "\n",
    "        data.append(rowdata)\n",
    "\n",
    "clubdf = pd.DataFrame(data, columns=headers)    "
   ]
  },
  {
   "cell_type": "code",
   "execution_count": 5,
   "metadata": {},
   "outputs": [
    {
     "data": {
      "text/plain": [
       "'Data inserted successfully'"
      ]
     },
     "execution_count": 5,
     "metadata": {},
     "output_type": "execute_result"
    }
   ],
   "source": [
    "insert_into_db(clubdf, f'$transfermarkt_{club}')"
   ]
  },
  {
   "cell_type": "code",
   "execution_count": null,
   "metadata": {},
   "outputs": [],
   "source": []
  }
 ],
 "metadata": {
  "kernelspec": {
   "display_name": "superleague",
   "language": "python",
   "name": "python3"
  },
  "language_info": {
   "codemirror_mode": {
    "name": "ipython",
    "version": 3
   },
   "file_extension": ".py",
   "mimetype": "text/x-python",
   "name": "python",
   "nbconvert_exporter": "python",
   "pygments_lexer": "ipython3",
   "version": "3.10.11"
  },
  "orig_nbformat": 4
 },
 "nbformat": 4,
 "nbformat_minor": 2
}
